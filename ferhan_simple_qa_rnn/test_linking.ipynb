{
 "cells": [
  {
   "cell_type": "code",
   "execution_count": 56,
   "metadata": {
    "collapsed": true
   },
   "outputs": [],
   "source": [
    "import os\n",
    "import sys\n",
    "import torch\n",
    "import pickle\n",
    "import math\n",
    "import unicodedata\n",
    "import pandas as pd\n",
    "import numpy as np\n",
    "\n",
    "from args import get_args, get_ent_args\n",
    "from torchtext import data\n",
    "\n",
    "from entity_detection.simple_qa_ner import SimpleQADataset\n",
    "from relation_prediction.simple_qa_relation import SimpleQaRelationDataset\n",
    "from fuzzywuzzy import fuzz\n",
    "from nltk.tokenize.treebank import TreebankWordTokenizer\n",
    "from nltk.corpus import stopwords\n",
    "from relation_prediction.model import RelationClassifier\n",
    "from entity_detection.model import EntityDetection\n",
    "from utils import tokenize_text, www2fb, get_index, strip_accents, find_ngrams, calc_tf_idf, pick_best_name, ins, get_span, get_names"
   ]
  },
  {
   "cell_type": "code",
   "execution_count": 57,
   "metadata": {},
   "outputs": [
    {
     "name": "stdout",
     "output_type": "stream",
     "text": [
      "loading index from: indexes/entity_2M.pkl\n",
      "loading index from: indexes/names_2M.pkl\n",
      "loading index from: indexes/reachability_2M.pkl\n",
      "loading index from: indexes/fb_graph.pkl\n"
     ]
    }
   ],
   "source": [
    "fb_path = \"indexes/fb_graph.pkl\"\n",
    "index_entpath = \"indexes/entity_2M.pkl\"\n",
    "index_reachpath = \"indexes/reachability_2M.pkl\"\n",
    "index_namespath = \"indexes/names_2M.pkl\"\n",
    "fb_path = \"indexes/fb_graph.pkl\"\n",
    "index_ent = get_index(index_entpath)\n",
    "index_names = get_index(index_namespath)\n",
    "index_reach = get_index(index_reachpath)\n",
    "fb_graph = get_index(fb_path)"
   ]
  },
  {
   "cell_type": "code",
   "execution_count": 64,
   "metadata": {
    "collapsed": true
   },
   "outputs": [],
   "source": [
    "stopwords = set(stopwords.words('english'))"
   ]
  },
  {
   "cell_type": "code",
   "execution_count": 65,
   "metadata": {
    "collapsed": true
   },
   "outputs": [],
   "source": [
    "def answer(relation, tokens, question):\n",
    "    pred_relation = relation\n",
    "    query_tokens = tokens\n",
    "\n",
    "    N = min(len(query_tokens), 3)\n",
    "\n",
    "    C = []  # candidate entities\n",
    "    for n in range(N, 0, -1):\n",
    "        ngrams_set = find_ngrams(query_tokens, n)\n",
    "        for ngram_tuple in ngrams_set:\n",
    "            ngram = \" \".join(ngram_tuple)\n",
    "            ngram = strip_accents(ngram)\n",
    "            print(ngram)\n",
    "            # unigram stopwords have too many candidates so just skip over\n",
    "            if ngram in stopwords:\n",
    "                continue\n",
    "            ## PROBLEM! - ngram doesnt exist in index - at test-2592 - KeyError: 'p.a.r.c.e. parce'\n",
    "            try:\n",
    "                cand_mids = index_ent[ngram]  # search entities\n",
    "            except:\n",
    "                continue\n",
    "            C.extend(cand_mids)\n",
    "        if (len(C) > 0):\n",
    "            break\n",
    "        break\n",
    "\n",
    "    C_pruned = []\n",
    "    for mid in set(C):\n",
    "        if mid in index_reach.keys():  # PROBLEM: don't know why this may not exist??\n",
    "            count_mid = C.count(mid)  # count number of times mid appeared in C\n",
    "            C_pruned.append((mid, count_mid))\n",
    "            if pred_relation in index_reach[mid]:\n",
    "                count_mid = C.count(mid)  # count number of times mid appeared in C\n",
    "                C_pruned.append((mid, count_mid))\n",
    "\n",
    "    print(C_pruned)\n",
    "    num_entities_fbsubset = 1959820  # 2M - 1959820 , 5M - 1972702\n",
    "    C_tfidf_pruned = []\n",
    "    \n",
    "    for mid, count_mid in C_pruned:\n",
    "        if mid in index_names.keys():\n",
    "            cand_ent_name = pick_best_name(question, index_names[mid])\n",
    "            tfidf = calc_tf_idf(query_tokens, cand_ent_name, count_mid, num_entities_fbsubset, index_ent)\n",
    "            C_tfidf_pruned.append((mid, cand_ent_name, tfidf))\n",
    "\n",
    "    C_tfidf_pruned.sort(key=lambda t: -t[2])\n",
    "    print(C_tfidf_pruned)\n",
    "\n",
    "    pred_ent, name_ent, score = C_tfidf_pruned[0]\n",
    "\n",
    "    print(pred_ent)\n",
    "    print(name_ent)\n",
    "    \n",
    "    key = (pred_ent, pred_relation)\n",
    "    print(key)\n",
    "    if key not in fb_graph:\n",
    "        return \"UNKNOWN\"\n",
    "    result_mid = fb_graph[key]\n",
    "    result_mid = list(result_mid)\n",
    "\n",
    "    result = get_names(fb_graph, result_mid)[0]\n",
    "    return result"
   ]
  },
  {
   "cell_type": "code",
   "execution_count": 66,
   "metadata": {},
   "outputs": [
    {
     "name": "stdout",
     "output_type": "stream",
     "text": [
      "dead combo\n",
      "[('fb:m.031j8nn', 1), ('fb:m.031j8nn', 1), ('fb:m.0gql46', 1)]\n",
      "[('fb:m.031j8nn', 'dead combo', 0.0), ('fb:m.031j8nn', 'dead combo', 0.0), ('fb:m.0gql46', 'dead combo', 0.0)]\n",
      "fb:m.031j8nn\n",
      "dead combo\n",
      "('fb:m.031j8nn', 'fb:music.release.region')\n",
      "United Kingdom\n"
     ]
    }
   ],
   "source": [
    "#a = answer(\"fb:people.person.place_of_birth\", [\"sasha vujacic\"], \"where was sasha vujacic born\")\n",
    "a = answer(\"fb:music.release.region\", [\"dead combo\"], \"What is a region that dead combo was released in?\")\n",
    "\n",
    "print(a)"
   ]
  },
  {
   "cell_type": "code",
   "execution_count": null,
   "metadata": {
    "collapsed": true
   },
   "outputs": [],
   "source": []
  },
  {
   "cell_type": "code",
   "execution_count": null,
   "metadata": {
    "collapsed": true
   },
   "outputs": [],
   "source": []
  }
 ],
 "metadata": {
  "kernelspec": {
   "display_name": "Python 3",
   "language": "python",
   "name": "python3"
  },
  "language_info": {
   "codemirror_mode": {
    "name": "ipython",
    "version": 3
   },
   "file_extension": ".py",
   "mimetype": "text/x-python",
   "name": "python",
   "nbconvert_exporter": "python",
   "pygments_lexer": "ipython3",
   "version": "3.6.1"
  }
 },
 "nbformat": 4,
 "nbformat_minor": 2
}
